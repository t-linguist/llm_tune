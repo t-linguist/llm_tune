{
 "cells": [
  {
   "cell_type": "markdown",
   "id": "773bbbcb-f71c-4a28-8b97-3e0486e97693",
   "metadata": {},
   "source": [
    "# 1. Загрузка базовой модели"
   ]
  },
  {
   "cell_type": "code",
   "execution_count": 1,
   "id": "48e34040-e534-498c-901c-808c8c3779f5",
   "metadata": {},
   "outputs": [
    {
     "name": "stderr",
     "output_type": "stream",
     "text": [
      "`low_cpu_mem_usage` was None, now set to True since model is quantized.\n"
     ]
    },
    {
     "data": {
      "application/vnd.jupyter.widget-view+json": {
       "model_id": "8eae855b76dd4e9ab04b24fb631a35df",
       "version_major": 2,
       "version_minor": 0
      },
      "text/plain": [
       "Loading checkpoint shards:   0%|          | 0/2 [00:00<?, ?it/s]"
      ]
     },
     "metadata": {},
     "output_type": "display_data"
    }
   ],
   "source": [
    "import torch\n",
    "from transformers import AutoTokenizer, AutoModelForCausalLM, BitsAndBytesConfig\n",
    "\n",
    "base_model_id = \"meta-llama/Llama-2-7b-chat-hf\"\n",
    "bnb_config = BitsAndBytesConfig(\n",
    "    load_in_4bit=True,\n",
    "    bnb_4bit_use_double_quant=True,\n",
    "    bnb_4bit_quant_type=\"nf4\",\n",
    "    bnb_4bit_compute_dtype=torch.bfloat16\n",
    ")\n",
    "\n",
    "model = AutoModelForCausalLM.from_pretrained(base_model_id, quantization_config=bnb_config)"
   ]
  },
  {
   "cell_type": "markdown",
   "id": "bf198474-08ca-4700-a6f0-b3969a1ac412",
   "metadata": {},
   "source": [
    "# 2. Токенизация"
   ]
  },
  {
   "cell_type": "code",
   "execution_count": 2,
   "id": "9cfcb14c-c232-4662-b729-b35d178964c6",
   "metadata": {},
   "outputs": [],
   "source": [
    "tokenizer = AutoTokenizer.from_pretrained(\n",
    "    base_model_id,\n",
    "    padding_side=\"left\",\n",
    "    add_bos_token=True,\n",
    "    add_eos_token=True,\n",
    "    truncation=True,\n",
    "    max_length=256,\n",
    "    padding=\"max_length\"\n",
    ")\n",
    "\n",
    "tokenizer.pad_token = tokenizer.eos_token"
   ]
  },
  {
   "cell_type": "markdown",
   "id": "c07be7a5-e3d2-48d2-8a98-7b236452ced7",
   "metadata": {},
   "source": [
    "# 3. Инференс"
   ]
  },
  {
   "cell_type": "code",
   "execution_count": 3,
   "id": "36273737-0889-4b0e-8919-3192bc5abb00",
   "metadata": {},
   "outputs": [
    {
     "name": "stdout",
     "output_type": "stream",
     "text": [
      "WARNING:tensorflow:From C:\\Program Files\\Python311\\Lib\\site-packages\\keras\\src\\losses.py:2976: The name tf.losses.sparse_softmax_cross_entropy is deprecated. Please use tf.compat.v1.losses.sparse_softmax_cross_entropy instead.\n",
      "\n"
     ]
    },
    {
     "data": {
      "text/plain": [
       "'### English:\\nVerify that products installed on endpoints are supported.\\n\\n### Spanish:\\n{check} confirmar que los productos instalados en los puntos de finalidad están soportados.\\n\\n### French:\\nVérifiez que les produits installés sur les terminaux sont compatibles.\\n\\n### German:\\nÜberprüfen Sie,'"
      ]
     },
     "execution_count": 3,
     "metadata": {},
     "output_type": "execute_result"
    }
   ],
   "source": [
    "sent = \"### English:\\nVerify that products installed on endpoints are supported.\\n\\n### Spanish:\\n\"\n",
    "model_input = tokenizer(sent, return_tensors=\"pt\").to(\"cuda\")\n",
    "model.eval()\n",
    "with torch.no_grad():\n",
    "    result = tokenizer.decode(model.generate(**model_input, max_new_tokens=60, repetition_penalty=1.15)[0], skip_special_tokens=True)\n",
    "result"
   ]
  },
  {
   "cell_type": "code",
   "execution_count": null,
   "id": "08f0d46f-beac-433f-a6de-1aeb6518ce7c",
   "metadata": {},
   "outputs": [],
   "source": []
  }
 ],
 "metadata": {
  "kernelspec": {
   "display_name": "Python 3 (ipykernel)",
   "language": "python",
   "name": "python3"
  },
  "language_info": {
   "codemirror_mode": {
    "name": "ipython",
    "version": 3
   },
   "file_extension": ".py",
   "mimetype": "text/x-python",
   "name": "python",
   "nbconvert_exporter": "python",
   "pygments_lexer": "ipython3",
   "version": "3.11.1"
  }
 },
 "nbformat": 4,
 "nbformat_minor": 5
}
